{
  "nbformat": 4,
  "nbformat_minor": 0,
  "metadata": {
    "colab": {
      "provenance": [],
      "authorship_tag": "ABX9TyM2aGSAd/+4uaXoF8HncncR",
      "include_colab_link": true
    },
    "kernelspec": {
      "name": "python3",
      "display_name": "Python 3"
    },
    "language_info": {
      "name": "python"
    }
  },
  "cells": [
    {
      "cell_type": "markdown",
      "metadata": {
        "id": "view-in-github",
        "colab_type": "text"
      },
      "source": [
        "<a href=\"https://colab.research.google.com/github/ojizou003/Python_func_class_lib/blob/main/func_class.ipynb\" target=\"_parent\"><img src=\"https://colab.research.google.com/assets/colab-badge.svg\" alt=\"Open In Colab\"/></a>"
      ]
    },
    {
      "cell_type": "code",
      "source": [
        "def say_string(s):\n",
        "  return \"say\" + s"
      ],
      "metadata": {
        "id": "STO1gC9cMsV4"
      },
      "execution_count": 1,
      "outputs": []
    },
    {
      "cell_type": "code",
      "source": [
        "s1 = say_string(\"Hello!\")\n",
        "print(s1)"
      ],
      "metadata": {
        "colab": {
          "base_uri": "https://localhost:8080/"
        },
        "id": "QHlSnNmINGtF",
        "outputId": "68f30bad-e48e-4677-ae27-8a04c640f035"
      },
      "execution_count": 2,
      "outputs": [
        {
          "output_type": "stream",
          "name": "stdout",
          "text": [
            "sayHello!\n"
          ]
        }
      ]
    },
    {
      "cell_type": "markdown",
      "source": [],
      "metadata": {
        "id": "Pfhq4WaoS_bm"
      }
    },
    {
      "cell_type": "code",
      "source": [
        "s2 = say_string(\"World\")\n",
        "print(s2)"
      ],
      "metadata": {
        "colab": {
          "base_uri": "https://localhost:8080/"
        },
        "id": "w09a0SldTAZn",
        "outputId": "fd4cd343-e074-4a9a-b63e-acaf0c454f4a"
      },
      "execution_count": 3,
      "outputs": [
        {
          "output_type": "stream",
          "name": "stdout",
          "text": [
            "sayWorld\n"
          ]
        }
      ]
    },
    {
      "cell_type": "code",
      "source": [
        "def f(x):\n",
        "  return x+3\n",
        "i = f(2)\n",
        "print(i)"
      ],
      "metadata": {
        "colab": {
          "base_uri": "https://localhost:8080/"
        },
        "id": "O9nqLnrBVioa",
        "outputId": "79dcaa9e-ebbe-453a-866f-49d9ef5df88d"
      },
      "execution_count": 4,
      "outputs": [
        {
          "output_type": "stream",
          "name": "stdout",
          "text": [
            "5\n"
          ]
        }
      ]
    },
    {
      "cell_type": "code",
      "source": [],
      "metadata": {
        "id": "3O1jiLZTYtB-"
      },
      "execution_count": null,
      "outputs": []
    },
    {
      "cell_type": "code",
      "source": [
        "def fizzBuzz():\n",
        "  lst = [3,5,30,49]\n",
        "  for i in lst:\n",
        "    if i % 15 == 0:\n",
        "      print(\"FizzBuzz\")\n",
        "    elif i % 5 == 0:\n",
        "      print(\"buzz\")\n",
        "    elif i % 3 == 0:\n",
        "      print(\"fizz\")\n",
        "    else:\n",
        "      print(i)\n",
        "\n",
        "fizzBuzz()"
      ],
      "metadata": {
        "colab": {
          "base_uri": "https://localhost:8080/"
        },
        "id": "0tWcdqS6WG5Q",
        "outputId": "b628938c-3df2-49d5-8d50-39fc3e17b13b"
      },
      "execution_count": 6,
      "outputs": [
        {
          "output_type": "stream",
          "name": "stdout",
          "text": [
            "fizz\n",
            "buzz\n",
            "FizzBuzz\n",
            "49\n"
          ]
        }
      ]
    },
    {
      "cell_type": "code",
      "source": [
        "def create_full_name(first, name):\n",
        "  return first + \" \"+ name"
      ],
      "metadata": {
        "id": "rnr5YCN-Yuzj"
      },
      "execution_count": 14,
      "outputs": []
    },
    {
      "cell_type": "code",
      "source": [
        "fullname = create_full_name(name=\"太郎\",first=\"山田\")\n",
        "print(fullname)"
      ],
      "metadata": {
        "colab": {
          "base_uri": "https://localhost:8080/"
        },
        "id": "-ra2bLgCZKx-",
        "outputId": "d15e002c-9b94-4722-d9c0-36ea81bf0755"
      },
      "execution_count": 15,
      "outputs": [
        {
          "output_type": "stream",
          "name": "stdout",
          "text": [
            "山田 太郎\n"
          ]
        }
      ]
    },
    {
      "cell_type": "code",
      "source": [
        "def sdaikei(jyoutei,katei,takasa):\n",
        "  sdaikei = (jyoutei+katei)*takasa/2\n",
        "  print(sdaikei)"
      ],
      "metadata": {
        "id": "BJHVSZa5aSG8"
      },
      "execution_count": 16,
      "outputs": []
    },
    {
      "cell_type": "code",
      "source": [
        "sdaikei(5,8,takasa=4)"
      ],
      "metadata": {
        "colab": {
          "base_uri": "https://localhost:8080/"
        },
        "id": "ae3QvDBYb69-",
        "outputId": "8a46ca04-5aab-47e2-cd93-69321e6d9bb0"
      },
      "execution_count": 17,
      "outputs": [
        {
          "output_type": "stream",
          "name": "stdout",
          "text": [
            "26.0\n"
          ]
        }
      ]
    },
    {
      "cell_type": "code",
      "source": [
        "def half_value(x):\n",
        "  return x / 2\n",
        "\n",
        "r = half_value(2)\n",
        "print(r)"
      ],
      "metadata": {
        "colab": {
          "base_uri": "https://localhost:8080/"
        },
        "id": "9hiLxJKRfgUX",
        "outputId": "a1eb1a84-c7ac-4d6f-f15b-f184c668dad8"
      },
      "execution_count": 18,
      "outputs": [
        {
          "output_type": "stream",
          "name": "stdout",
          "text": [
            "1.0\n"
          ]
        }
      ]
    },
    {
      "cell_type": "code",
      "source": [
        "# ラムダ式\n",
        "half_value = lambda x: x / 2\n",
        "\n",
        "r = half_value(2)\n",
        "print(r)"
      ],
      "metadata": {
        "colab": {
          "base_uri": "https://localhost:8080/"
        },
        "id": "fZ_YQqhSf2c7",
        "outputId": "684b498a-bfcc-4595-9afb-408103c7df14"
      },
      "execution_count": 19,
      "outputs": [
        {
          "output_type": "stream",
          "name": "stdout",
          "text": [
            "1.0\n"
          ]
        }
      ]
    },
    {
      "cell_type": "code",
      "source": [
        "numbers = [1,2,3,4,5,6]\n",
        "filtered = list(filter(lambda x: x % 3 == 0,numbers))\n",
        "print(filtered)"
      ],
      "metadata": {
        "colab": {
          "base_uri": "https://localhost:8080/"
        },
        "id": "Ot7OZ0yllr3W",
        "outputId": "f13176f5-b214-4f60-aa35-b52bc645bec9"
      },
      "execution_count": 27,
      "outputs": [
        {
          "output_type": "stream",
          "name": "stdout",
          "text": [
            "[3, 6]\n"
          ]
        }
      ]
    },
    {
      "cell_type": "code",
      "source": [
        "evenor = lambda x: x if x % 2 ==0 else \"2で割り切れません\"\n",
        "\n",
        "print(evenor(4))"
      ],
      "metadata": {
        "colab": {
          "base_uri": "https://localhost:8080/"
        },
        "id": "8L5Ob9Z9qYHa",
        "outputId": "7dd546ba-16eb-4653-c935-793dc185abff"
      },
      "execution_count": 29,
      "outputs": [
        {
          "output_type": "stream",
          "name": "stdout",
          "text": [
            "4\n"
          ]
        }
      ]
    }
  ]
}